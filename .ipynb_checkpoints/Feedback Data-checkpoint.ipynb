{
 "cells": [
  {
   "cell_type": "code",
   "execution_count": 4,
   "metadata": {
    "collapsed": true
   },
   "outputs": [],
   "source": [
    "from preprocess_train_dev_data import *"
   ]
  },
  {
   "cell_type": "code",
   "execution_count": 14,
   "metadata": {
    "collapsed": true
   },
   "outputs": [],
   "source": [
    "nlq = \"Which department has the minimum budget?\"                                          # What is the minimum department budget? \n",
    "db_name = \"department_management\"                                                       # department_management\n",
    "correct_query = \"select Name from department order by Budget_in_Billions asc limit 1\"      # SELECT \n",
    "toy = True"
   ]
  },
  {
   "cell_type": "code",
   "execution_count": 9,
   "metadata": {},
   "outputs": [
    {
     "name": "stdout",
     "output_type": "stream",
     "text": [
      "table_data_path = ./data/spider/tables.json\n"
     ]
    },
    {
     "data": {
      "text/plain": [
       "dict"
      ]
     },
     "execution_count": 9,
     "metadata": {},
     "output_type": "execute_result"
    }
   ],
   "source": [
    "table_data_path = \"./data/spider/tables.json\"\n",
    "table_dict = get_table_dict(table_data_path)\n",
    "type(table_dict)"
   ]
  },
  {
   "cell_type": "code",
   "execution_count": 6,
   "metadata": {},
   "outputs": [
    {
     "data": {
      "text/plain": [
       "list"
      ]
     },
     "execution_count": 6,
     "metadata": {},
     "output_type": "execute_result"
    }
   ],
   "source": [
    "train_data_path = \"./data/spider/train_spider.json\"\n",
    "train_data = json.load(open(train_data_path))\n",
    "type(train_data)"
   ]
  },
  {
   "cell_type": "code",
   "execution_count": 7,
   "metadata": {
    "scrolled": true
   },
   "outputs": [
    {
     "data": {
      "text/plain": [
       "{'db_id': 'department_management',\n",
       " 'query': 'SELECT count(*) FROM head WHERE age  >  56',\n",
       " 'query_toks': ['SELECT',\n",
       "  'count',\n",
       "  '(',\n",
       "  '*',\n",
       "  ')',\n",
       "  'FROM',\n",
       "  'head',\n",
       "  'WHERE',\n",
       "  'age',\n",
       "  '>',\n",
       "  '56'],\n",
       " 'query_toks_no_value': ['select',\n",
       "  'count',\n",
       "  '(',\n",
       "  '*',\n",
       "  ')',\n",
       "  'from',\n",
       "  'head',\n",
       "  'where',\n",
       "  'age',\n",
       "  '>',\n",
       "  'value'],\n",
       " 'question': 'How many heads of the departments are older than 56 ?',\n",
       " 'question_toks': ['How',\n",
       "  'many',\n",
       "  'heads',\n",
       "  'of',\n",
       "  'the',\n",
       "  'departments',\n",
       "  'are',\n",
       "  'older',\n",
       "  'than',\n",
       "  '56',\n",
       "  '?'],\n",
       " 'sql': {'except': None,\n",
       "  'from': {'conds': [], 'table_units': [['table_unit', 1]]},\n",
       "  'groupBy': [],\n",
       "  'having': [],\n",
       "  'intersect': None,\n",
       "  'limit': None,\n",
       "  'orderBy': [],\n",
       "  'select': [False, [[3, [0, [0, 0, False], None]]]],\n",
       "  'union': None,\n",
       "  'where': [[False, 3, [0, [0, 10, False], None], 56.0, None]]}}"
      ]
     },
     "execution_count": 7,
     "metadata": {},
     "output_type": "execute_result"
    }
   ],
   "source": [
    "train_data[0]"
   ]
  },
  {
   "cell_type": "code",
   "execution_count": 8,
   "metadata": {
    "collapsed": true
   },
   "outputs": [],
   "source": [
    "from data.process_sql import *"
   ]
  },
  {
   "cell_type": "code",
   "execution_count": 17,
   "metadata": {},
   "outputs": [
    {
     "data": {
      "text/plain": [
       "{'department': ['department_id',\n",
       "  'name',\n",
       "  'creation',\n",
       "  'ranking',\n",
       "  'budget_in_billions',\n",
       "  'num_employees'],\n",
       " 'head': ['head_id', 'name', 'born_state', 'age'],\n",
       " 'management': ['department_id', 'head_id', 'temporary_acting']}"
      ]
     },
     "execution_count": 17,
     "metadata": {},
     "output_type": "execute_result"
    }
   ],
   "source": [
    "db_schema = get_schema(db = \"./data/spider/database/{}/{}.sqlite\".format(db_name,db_name))\n",
    "db_schema"
   ]
  },
  {
   "cell_type": "code",
   "execution_count": 29,
   "metadata": {},
   "outputs": [],
   "source": [
    "from data.parse_sql_one import *"
   ]
  },
  {
   "cell_type": "code",
   "execution_count": 30,
   "metadata": {},
   "outputs": [],
   "source": [
    "sql = correct_query             #\"SELECT name ,  country ,  age FROM singer ORDER BY age DESC\"\n",
    "db_id = db_name                 #\"concert_singer\"\n",
    "table_file = table_data_path    # \"tables.json\"\n",
    "\n",
    "schemas, db_names, tables = get_schemas_from_json(table_file)\n",
    "schema = schemas[db_id]\n",
    "table = tables[db_id]\n",
    "schema = Schema(schema, table)\n",
    "sql_label = get_sql(schema, sql)"
   ]
  },
  {
   "cell_type": "code",
   "execution_count": 31,
   "metadata": {},
   "outputs": [
    {
     "data": {
      "text/plain": [
       "{'except': None,\n",
       " 'from': {'conds': [], 'table_units': [('table_unit', 0)]},\n",
       " 'groupBy': [],\n",
       " 'having': [],\n",
       " 'intersect': None,\n",
       " 'limit': 1,\n",
       " 'orderBy': ('asc', [(0, (0, 5, False), None)]),\n",
       " 'select': (False, [(0, (0, (0, 2, False), None))]),\n",
       " 'union': None,\n",
       " 'where': []}"
      ]
     },
     "execution_count": 31,
     "metadata": {},
     "output_type": "execute_result"
    }
   ],
   "source": [
    "sql_label"
   ]
  },
  {
   "cell_type": "code",
   "execution_count": 2,
   "metadata": {
    "collapsed": true
   },
   "outputs": [],
   "source": [
    "dataset = {\n",
    "    \"multi_sql_dataset\": [],\n",
    "    \"keyword_dataset\": [],\n",
    "    \"col_dataset\": [],\n",
    "    \"op_dataset\": [],\n",
    "    \"agg_dataset\": [],\n",
    "    \"root_tem_dataset\": [],\n",
    "    \"des_asc_dataset\": [],\n",
    "    \"having_dataset\": [],\n",
    "    \"andor_dataset\":[]\n",
    "}"
   ]
  },
  {
   "cell_type": "code",
   "execution_count": 32,
   "metadata": {
    "collapsed": true
   },
   "outputs": [],
   "source": [
    "from data.process_sql import tokenize"
   ]
  },
  {
   "cell_type": "code",
   "execution_count": 35,
   "metadata": {},
   "outputs": [],
   "source": [
    "parser_item_with_long_history(tokenize(nlq), #item[\"question_toks\"], \n",
    "                              sql_label,  #item[\"sql\"], \n",
    "                              table_dict[db_name],  #table_dict[item[\"db_id\"]], \n",
    "                                [], \n",
    "                                dataset)"
   ]
  },
  {
   "cell_type": "code",
   "execution_count": 36,
   "metadata": {},
   "outputs": [
    {
     "data": {
      "text/plain": [
       "{'agg_dataset': [{'gt_col': 2,\n",
       "   'history': ['root', 'none', 'select', ('department', 'name', 2)],\n",
       "   'label': [],\n",
       "   'question_tokens': ['which',\n",
       "    'department',\n",
       "    'has',\n",
       "    'the',\n",
       "    'minimum',\n",
       "    'budget',\n",
       "    '?'],\n",
       "   'ts': [['department', 'head', 'management'],\n",
       "    [[-1, '*'],\n",
       "     [0, 'department id'],\n",
       "     [0, 'name'],\n",
       "     [0, 'creation'],\n",
       "     [0, 'ranking'],\n",
       "     [0, 'budget in billions'],\n",
       "     [0, 'num employees'],\n",
       "     [1, 'head id'],\n",
       "     [1, 'name'],\n",
       "     [1, 'born state'],\n",
       "     [1, 'age'],\n",
       "     [2, 'department id'],\n",
       "     [2, 'head id'],\n",
       "     [2, 'temporary acting']],\n",
       "    ['text',\n",
       "     'number',\n",
       "     'text',\n",
       "     'text',\n",
       "     'number',\n",
       "     'number',\n",
       "     'number',\n",
       "     'number',\n",
       "     'text',\n",
       "     'text',\n",
       "     'number',\n",
       "     'number',\n",
       "     'number',\n",
       "     'text']]},\n",
       "  {'gt_col': 5,\n",
       "   'history': ['root',\n",
       "    'none',\n",
       "    'select',\n",
       "    ('department', 'name', 2),\n",
       "    'orderBy',\n",
       "    ('department', 'budget in billions', 5)],\n",
       "   'label': [],\n",
       "   'question_tokens': ['which',\n",
       "    'department',\n",
       "    'has',\n",
       "    'the',\n",
       "    'minimum',\n",
       "    'budget',\n",
       "    '?'],\n",
       "   'ts': [['department', 'head', 'management'],\n",
       "    [[-1, '*'],\n",
       "     [0, 'department id'],\n",
       "     [0, 'name'],\n",
       "     [0, 'creation'],\n",
       "     [0, 'ranking'],\n",
       "     [0, 'budget in billions'],\n",
       "     [0, 'num employees'],\n",
       "     [1, 'head id'],\n",
       "     [1, 'name'],\n",
       "     [1, 'born state'],\n",
       "     [1, 'age'],\n",
       "     [2, 'department id'],\n",
       "     [2, 'head id'],\n",
       "     [2, 'temporary acting']],\n",
       "    ['text',\n",
       "     'number',\n",
       "     'text',\n",
       "     'text',\n",
       "     'number',\n",
       "     'number',\n",
       "     'number',\n",
       "     'number',\n",
       "     'text',\n",
       "     'text',\n",
       "     'number',\n",
       "     'number',\n",
       "     'number',\n",
       "     'text']]}],\n",
       " 'andor_dataset': [],\n",
       " 'col_dataset': [{'history': ['root', 'none', 'select'],\n",
       "   'label': [2],\n",
       "   'question_tokens': ['which',\n",
       "    'department',\n",
       "    'has',\n",
       "    'the',\n",
       "    'minimum',\n",
       "    'budget',\n",
       "    '?'],\n",
       "   'ts': [['department', 'head', 'management'],\n",
       "    [[-1, '*'],\n",
       "     [0, 'department id'],\n",
       "     [0, 'name'],\n",
       "     [0, 'creation'],\n",
       "     [0, 'ranking'],\n",
       "     [0, 'budget in billions'],\n",
       "     [0, 'num employees'],\n",
       "     [1, 'head id'],\n",
       "     [1, 'name'],\n",
       "     [1, 'born state'],\n",
       "     [1, 'age'],\n",
       "     [2, 'department id'],\n",
       "     [2, 'head id'],\n",
       "     [2, 'temporary acting']],\n",
       "    ['text',\n",
       "     'number',\n",
       "     'text',\n",
       "     'text',\n",
       "     'number',\n",
       "     'number',\n",
       "     'number',\n",
       "     'number',\n",
       "     'text',\n",
       "     'text',\n",
       "     'number',\n",
       "     'number',\n",
       "     'number',\n",
       "     'text']]},\n",
       "  {'history': ['root', 'none', 'select', ('department', 'name', 2), 'orderBy'],\n",
       "   'label': [5],\n",
       "   'question_tokens': ['which',\n",
       "    'department',\n",
       "    'has',\n",
       "    'the',\n",
       "    'minimum',\n",
       "    'budget',\n",
       "    '?'],\n",
       "   'ts': [['department', 'head', 'management'],\n",
       "    [[-1, '*'],\n",
       "     [0, 'department id'],\n",
       "     [0, 'name'],\n",
       "     [0, 'creation'],\n",
       "     [0, 'ranking'],\n",
       "     [0, 'budget in billions'],\n",
       "     [0, 'num employees'],\n",
       "     [1, 'head id'],\n",
       "     [1, 'name'],\n",
       "     [1, 'born state'],\n",
       "     [1, 'age'],\n",
       "     [2, 'department id'],\n",
       "     [2, 'head id'],\n",
       "     [2, 'temporary acting']],\n",
       "    ['text',\n",
       "     'number',\n",
       "     'text',\n",
       "     'text',\n",
       "     'number',\n",
       "     'number',\n",
       "     'number',\n",
       "     'number',\n",
       "     'text',\n",
       "     'text',\n",
       "     'number',\n",
       "     'number',\n",
       "     'number',\n",
       "     'text']]}],\n",
       " 'des_asc_dataset': [{'gt_col': 5,\n",
       "   'history': ['root',\n",
       "    'none',\n",
       "    'select',\n",
       "    ('department', 'name', 2),\n",
       "    'orderBy',\n",
       "    ('department', 'budget in billions', 5),\n",
       "    0],\n",
       "   'label': 0,\n",
       "   'question_tokens': ['which',\n",
       "    'department',\n",
       "    'has',\n",
       "    'the',\n",
       "    'minimum',\n",
       "    'budget',\n",
       "    '?'],\n",
       "   'ts': [['department', 'head', 'management'],\n",
       "    [[-1, '*'],\n",
       "     [0, 'department id'],\n",
       "     [0, 'name'],\n",
       "     [0, 'creation'],\n",
       "     [0, 'ranking'],\n",
       "     [0, 'budget in billions'],\n",
       "     [0, 'num employees'],\n",
       "     [1, 'head id'],\n",
       "     [1, 'name'],\n",
       "     [1, 'born state'],\n",
       "     [1, 'age'],\n",
       "     [2, 'department id'],\n",
       "     [2, 'head id'],\n",
       "     [2, 'temporary acting']],\n",
       "    ['text',\n",
       "     'number',\n",
       "     'text',\n",
       "     'text',\n",
       "     'number',\n",
       "     'number',\n",
       "     'number',\n",
       "     'number',\n",
       "     'text',\n",
       "     'text',\n",
       "     'number',\n",
       "     'number',\n",
       "     'number',\n",
       "     'text']]}],\n",
       " 'having_dataset': [],\n",
       " 'keyword_dataset': [{'history': ['root', 'none'],\n",
       "   'label': [2],\n",
       "   'question_tokens': ['which',\n",
       "    'department',\n",
       "    'has',\n",
       "    'the',\n",
       "    'minimum',\n",
       "    'budget',\n",
       "    '?'],\n",
       "   'ts': [['department', 'head', 'management'],\n",
       "    [[-1, '*'],\n",
       "     [0, 'department id'],\n",
       "     [0, 'name'],\n",
       "     [0, 'creation'],\n",
       "     [0, 'ranking'],\n",
       "     [0, 'budget in billions'],\n",
       "     [0, 'num employees'],\n",
       "     [1, 'head id'],\n",
       "     [1, 'name'],\n",
       "     [1, 'born state'],\n",
       "     [1, 'age'],\n",
       "     [2, 'department id'],\n",
       "     [2, 'head id'],\n",
       "     [2, 'temporary acting']],\n",
       "    ['text',\n",
       "     'number',\n",
       "     'text',\n",
       "     'text',\n",
       "     'number',\n",
       "     'number',\n",
       "     'number',\n",
       "     'number',\n",
       "     'text',\n",
       "     'text',\n",
       "     'number',\n",
       "     'number',\n",
       "     'number',\n",
       "     'text']]}],\n",
       " 'multi_sql_dataset': [{'history': ['root'],\n",
       "   'label': 0,\n",
       "   'question_tokens': ['which',\n",
       "    'department',\n",
       "    'has',\n",
       "    'the',\n",
       "    'minimum',\n",
       "    'budget',\n",
       "    '?'],\n",
       "   'ts': [['department', 'head', 'management'],\n",
       "    [[-1, '*'],\n",
       "     [0, 'department id'],\n",
       "     [0, 'name'],\n",
       "     [0, 'creation'],\n",
       "     [0, 'ranking'],\n",
       "     [0, 'budget in billions'],\n",
       "     [0, 'num employees'],\n",
       "     [1, 'head id'],\n",
       "     [1, 'name'],\n",
       "     [1, 'born state'],\n",
       "     [1, 'age'],\n",
       "     [2, 'department id'],\n",
       "     [2, 'head id'],\n",
       "     [2, 'temporary acting']],\n",
       "    ['text',\n",
       "     'number',\n",
       "     'text',\n",
       "     'text',\n",
       "     'number',\n",
       "     'number',\n",
       "     'number',\n",
       "     'number',\n",
       "     'text',\n",
       "     'text',\n",
       "     'number',\n",
       "     'number',\n",
       "     'number',\n",
       "     'text']]}],\n",
       " 'op_dataset': [],\n",
       " 'root_tem_dataset': []}"
      ]
     },
     "execution_count": 36,
     "metadata": {},
     "output_type": "execute_result"
    }
   ],
   "source": [
    "dataset"
   ]
  },
  {
   "cell_type": "code",
   "execution_count": 41,
   "metadata": {
    "scrolled": true
   },
   "outputs": [],
   "source": [
    "component = \"col\"\n",
    "name_dataset = component + \"_dataset\"\n",
    "# dataset[name_dataset]"
   ]
  },
  {
   "cell_type": "code",
   "execution_count": 40,
   "metadata": {},
   "outputs": [
    {
     "data": {
      "text/plain": [
       "['which', 'department', 'has', 'the', 'minimum', 'budget', '?']"
      ]
     },
     "execution_count": 40,
     "metadata": {},
     "output_type": "execute_result"
    }
   ],
   "source": [
    "dataset[name_dataset][0][\"question_tokens\"]"
   ]
  },
  {
   "cell_type": "code",
   "execution_count": 42,
   "metadata": {},
   "outputs": [
    {
     "data": {
      "text/plain": [
       "['root', 'none', 'select']"
      ]
     },
     "execution_count": 42,
     "metadata": {},
     "output_type": "execute_result"
    }
   ],
   "source": [
    "dataset[name_dataset][0][\"history\"]"
   ]
  },
  {
   "cell_type": "code",
   "execution_count": 43,
   "metadata": {},
   "outputs": [
    {
     "data": {
      "text/plain": [
       "[2]"
      ]
     },
     "execution_count": 43,
     "metadata": {},
     "output_type": "execute_result"
    }
   ],
   "source": [
    "dataset[name_dataset][0][\"label\"]"
   ]
  },
  {
   "cell_type": "code",
   "execution_count": null,
   "metadata": {
    "collapsed": true
   },
   "outputs": [],
   "source": []
  }
 ],
 "metadata": {
  "kernelspec": {
   "display_name": "Python 3",
   "language": "python",
   "name": "python3"
  },
  "language_info": {
   "codemirror_mode": {
    "name": "ipython",
    "version": 3
   },
   "file_extension": ".py",
   "mimetype": "text/x-python",
   "name": "python",
   "nbconvert_exporter": "python",
   "pygments_lexer": "ipython3",
   "version": "3.6.1"
  }
 },
 "nbformat": 4,
 "nbformat_minor": 2
}
